{
 "cells": [
  {
   "cell_type": "markdown",
   "metadata": {},
   "source": [
    "## Loading Keras"
   ]
  },
  {
   "cell_type": "code",
   "execution_count": 1,
   "metadata": {},
   "outputs": [
    {
     "name": "stderr",
     "output_type": "stream",
     "text": [
      "Using TensorFlow backend.\n"
     ]
    }
   ],
   "source": [
    "from keras.datasets import reuters\n",
    "from keras.utils.np_utils import to_categorical\n",
    "import numpy as np"
   ]
  },
  {
   "cell_type": "code",
   "execution_count": 2,
   "metadata": {},
   "outputs": [],
   "source": [
    "(train_data, train_labels),(test_data, test_labels) = reuters.load_data(num_words = 10000)"
   ]
  },
  {
   "cell_type": "code",
   "execution_count": 3,
   "metadata": {},
   "outputs": [
    {
     "data": {
      "text/plain": [
       "8982"
      ]
     },
     "execution_count": 3,
     "metadata": {},
     "output_type": "execute_result"
    }
   ],
   "source": [
    "len(train_data)"
   ]
  },
  {
   "cell_type": "code",
   "execution_count": 4,
   "metadata": {},
   "outputs": [
    {
     "data": {
      "text/plain": [
       "2246"
      ]
     },
     "execution_count": 4,
     "metadata": {},
     "output_type": "execute_result"
    }
   ],
   "source": [
    "len(test_data)"
   ]
  },
  {
   "cell_type": "markdown",
   "metadata": {},
   "source": [
    "### Integer array to Sentence"
   ]
  },
  {
   "cell_type": "code",
   "execution_count": 5,
   "metadata": {},
   "outputs": [
    {
     "data": {
      "text/plain": [
       "'? ? corp said it reached an agreement in principal covering the acquisition of the company by privately held ? financial corp the agreement calls for ? to make a self tender offer for all of its outstanding stock at a price of 22 dlrs per share in cash ? headquartered in los angeles develops manages and ? real estate ? also said reuter 3'"
      ]
     },
     "execution_count": 5,
     "metadata": {},
     "output_type": "execute_result"
    }
   ],
   "source": [
    "word_index = reuters.get_word_index()\n",
    "word_index_dict = dict([(value, key) for (key, value) in word_index.items()])\n",
    "sentence = ' '.join([word_index_dict.get(i-3, '?') for i in train_data[12]])\n",
    "sentence"
   ]
  },
  {
   "cell_type": "markdown",
   "metadata": {},
   "source": [
    "### Integer array to one-hot-encoding"
   ]
  },
  {
   "cell_type": "code",
   "execution_count": 6,
   "metadata": {},
   "outputs": [],
   "source": [
    "def to_sequence(sequence, dim = 10000):\n",
    "    results = np.zeros((len(sequence), dim))\n",
    "    for (i , sequence) in enumerate(sequence):\n",
    "        results[i, sequence] = 1\n",
    "    return results"
   ]
  },
  {
   "cell_type": "code",
   "execution_count": 7,
   "metadata": {},
   "outputs": [],
   "source": [
    "x_train = to_sequence(train_data)\n",
    "y_test = to_sequence(test_data)"
   ]
  },
  {
   "cell_type": "code",
   "execution_count": 8,
   "metadata": {},
   "outputs": [],
   "source": [
    "x_train_label = to_categorical(train_labels)\n",
    "y_test_label =  to_categorical(test_labels)"
   ]
  },
  {
   "cell_type": "markdown",
   "metadata": {},
   "source": [
    "### Developing Model"
   ]
  },
  {
   "cell_type": "code",
   "execution_count": 9,
   "metadata": {},
   "outputs": [],
   "source": [
    "from keras.models import Sequential\n",
    "from keras.layers import Dense"
   ]
  },
  {
   "cell_type": "code",
   "execution_count": 10,
   "metadata": {},
   "outputs": [
    {
     "name": "stdout",
     "output_type": "stream",
     "text": [
      "WARNING:tensorflow:From C:\\Users\\Harshit\\Anaconda3\\lib\\site-packages\\tensorflow\\python\\framework\\op_def_library.py:263: colocate_with (from tensorflow.python.framework.ops) is deprecated and will be removed in a future version.\n",
      "Instructions for updating:\n",
      "Colocations handled automatically by placer.\n"
     ]
    }
   ],
   "source": [
    "model = Sequential()\n",
    "model.add(Dense(192, activation = 'relu', input_shape = (10000,)))\n",
    "model.add(Dense(192, activation = 'relu'))\n",
    "model.add(Dense(64, activation = 'relu'))\n",
    "model.add(Dense(46, activation = 'softmax'))"
   ]
  },
  {
   "cell_type": "code",
   "execution_count": 11,
   "metadata": {},
   "outputs": [
    {
     "name": "stdout",
     "output_type": "stream",
     "text": [
      "_________________________________________________________________\n",
      "Layer (type)                 Output Shape              Param #   \n",
      "=================================================================\n",
      "dense_1 (Dense)              (None, 192)               1920192   \n",
      "_________________________________________________________________\n",
      "dense_2 (Dense)              (None, 192)               37056     \n",
      "_________________________________________________________________\n",
      "dense_3 (Dense)              (None, 64)                12352     \n",
      "_________________________________________________________________\n",
      "dense_4 (Dense)              (None, 46)                2990      \n",
      "=================================================================\n",
      "Total params: 1,972,590\n",
      "Trainable params: 1,972,590\n",
      "Non-trainable params: 0\n",
      "_________________________________________________________________\n"
     ]
    }
   ],
   "source": [
    "model.summary()"
   ]
  },
  {
   "cell_type": "code",
   "execution_count": 12,
   "metadata": {},
   "outputs": [],
   "source": [
    "model.compile(optimizer = 'rmsprop', loss= 'categorical_crossentropy', metrics = ['accuracy'])"
   ]
  },
  {
   "cell_type": "code",
   "execution_count": 13,
   "metadata": {},
   "outputs": [],
   "source": [
    "x_val = x_train[:1000]\n",
    "partial_x_val = x_train[1000:]\n",
    "\n",
    "y_val = x_train_label[:1000]\n",
    "partial_y_val = x_train_label[1000:]"
   ]
  },
  {
   "cell_type": "code",
   "execution_count": 14,
   "metadata": {},
   "outputs": [
    {
     "name": "stdout",
     "output_type": "stream",
     "text": [
      "WARNING:tensorflow:From C:\\Users\\Harshit\\Anaconda3\\lib\\site-packages\\tensorflow\\python\\ops\\math_ops.py:3066: to_int32 (from tensorflow.python.ops.math_ops) is deprecated and will be removed in a future version.\n",
      "Instructions for updating:\n",
      "Use tf.cast instead.\n",
      "Train on 7982 samples, validate on 1000 samples\n",
      "Epoch 1/10\n",
      "7982/7982 [==============================] - 7s 902us/step - loss: 2.1490 - acc: 0.5403 - val_loss: 1.3527 - val_acc: 0.6830\n",
      "Epoch 2/10\n",
      "7982/7982 [==============================] - 5s 608us/step - loss: 1.1488 - acc: 0.7377 - val_loss: 1.1236 - val_acc: 0.7310\n",
      "Epoch 3/10\n",
      "7982/7982 [==============================] - 4s 486us/step - loss: 0.8071 - acc: 0.8183 - val_loss: 0.9734 - val_acc: 0.7920\n",
      "Epoch 4/10\n",
      "7982/7982 [==============================] - 4s 480us/step - loss: 0.5811 - acc: 0.8664 - val_loss: 0.9390 - val_acc: 0.8020\n",
      "Epoch 5/10\n",
      "7982/7982 [==============================] - 4s 485us/step - loss: 0.4044 - acc: 0.9128 - val_loss: 0.9367 - val_acc: 0.8050\n",
      "Epoch 6/10\n",
      "7982/7982 [==============================] - 5s 671us/step - loss: 0.3403 - acc: 0.9236 - val_loss: 0.9258 - val_acc: 0.8140\n",
      "Epoch 7/10\n",
      "7982/7982 [==============================] - 5s 586us/step - loss: 0.2356 - acc: 0.9449 - val_loss: 1.0197 - val_acc: 0.7960\n",
      "Epoch 8/10\n",
      "7982/7982 [==============================] - 5s 581us/step - loss: 0.2052 - acc: 0.9473 - val_loss: 1.0933 - val_acc: 0.7940\n",
      "Epoch 9/10\n",
      "7982/7982 [==============================] - 5s 576us/step - loss: 0.1676 - acc: 0.9523 - val_loss: 1.1596 - val_acc: 0.7680\n",
      "Epoch 10/10\n",
      "7982/7982 [==============================] - 4s 488us/step - loss: 0.1500 - acc: 0.9540 - val_loss: 1.0236 - val_acc: 0.8140\n"
     ]
    }
   ],
   "source": [
    "history = model.fit(partial_x_val, partial_y_val, epochs = 10, batch_size=512, validation_data = (x_val, y_val))"
   ]
  },
  {
   "cell_type": "markdown",
   "metadata": {},
   "source": [
    "### Plotting Loss between Training loss and Validation loss"
   ]
  },
  {
   "cell_type": "code",
   "execution_count": 21,
   "metadata": {},
   "outputs": [
    {
     "data": {
      "image/png": "[encoded data removed]",
      "text/plain": [
       "<Figure size 432x288 with 1 Axes>"
      ]
     },
     "metadata": {
      "needs_background": "light"
     },
     "output_type": "display_data"
    }
   ],
   "source": [
    "import matplotlib.pyplot as plt\n",
    "loss = history.history['loss']\n",
    "val_loss = history.history['val_loss']\n",
    "epochs = range(1, len(loss) + 1)\n",
    "plt.plot(epochs, loss, 'bo', label='Training loss')\n",
    "plt.plot(epochs, val_loss, 'b', label='Validation loss')\n",
    "plt.title('Training and validation loss')\n",
    "plt.xlabel('Epochs')\n",
    "plt.ylabel('Loss')\n",
    "plt.legend()\n",
    "plt.show()"
   ]
  },
  {
   "cell_type": "markdown",
   "metadata": {},
   "source": [
    "### Plotting Accuracy between Training acc and Validation acc"
   ]
  },
  {
   "cell_type": "code",
   "execution_count": 16,
   "metadata": {},
   "outputs": [
    {
     "data": {
      "image/png": "[encoded data removed]",
      "text/plain": [
       "<Figure size 432x288 with 1 Axes>"
      ]
     },
     "metadata": {
      "needs_background": "light"
     },
     "output_type": "display_data"
    }
   ],
   "source": [
    "plt.clf()\n",
    "acc = history.history['acc']\n",
    "val_acc = history.history['val_acc']\n",
    "plt.plot(epochs, acc, 'bo', label='Training acc')\n",
    "plt.plot(epochs, val_acc, 'b', label='Validation acc')\n",
    "plt.title('Training and validation accuracy')\n",
    "plt.xlabel('Epochs')\n",
    "plt.ylabel('Loss')\n",
    "plt.legend()\n",
    "plt.show()\n"
   ]
  },
  {
   "cell_type": "markdown",
   "metadata": {},
   "source": [
    "### Evaluating the model"
   ]
  },
  {
   "cell_type": "code",
   "execution_count": 22,
   "metadata": {},
   "outputs": [
    {
     "name": "stdout",
     "output_type": "stream",
     "text": [
      "2246/2246 [==============================] - 1s 412us/step\n"
     ]
    }
   ],
   "source": [
    "results = model.evaluate(y_test, y_test_label )"
   ]
  },
  {
   "cell_type": "code",
   "execution_count": 23,
   "metadata": {},
   "outputs": [
    {
     "data": {
      "text/plain": [
       "[1.1338875268255082, 0.7840605521456854]"
      ]
     },
     "execution_count": 23,
     "metadata": {},
     "output_type": "execute_result"
    }
   ],
   "source": [
    "results"
   ]
  },
  {
   "cell_type": "markdown",
   "metadata": {},
   "source": [
    "### Predicting the model"
   ]
  },
  {
   "cell_type": "code",
   "execution_count": 24,
   "metadata": {},
   "outputs": [],
   "source": [
    "predictions = model.predict(y_test)"
   ]
  },
  {
   "cell_type": "code",
   "execution_count": 29,
   "metadata": {},
   "outputs": [
    {
     "data": {
      "text/plain": [
       "array([7.0959162e-11, 4.1217096e-08, 5.4400728e-09, 1.8423375e-04,\n",
       "       5.2215910e-08, 3.9515555e-09, 2.3402683e-13, 2.6193993e-11,\n",
       "       3.7312847e-07, 4.4510813e-09, 5.6803529e-12, 9.9980634e-01,\n",
       "       4.2115815e-08, 2.3198925e-12, 5.6284592e-11, 1.4190493e-09,\n",
       "       6.0724523e-09, 1.7228602e-12, 4.7799193e-07, 6.0962657e-09,\n",
       "       2.5233584e-07, 9.7911457e-10, 8.7622789e-09, 1.4720619e-08,\n",
       "       1.7074914e-08, 1.8431016e-10, 7.5734826e-12, 1.4478954e-10,\n",
       "       2.5457891e-09, 1.4368650e-08, 4.8921938e-09, 4.0826354e-08,\n",
       "       4.5310259e-07, 8.5546809e-13, 1.2235269e-07, 5.2756038e-10,\n",
       "       7.6016099e-06, 3.1470332e-08, 1.0454152e-10, 2.2448315e-12,\n",
       "       4.4259268e-10, 1.8033249e-09, 7.2499164e-12, 1.1939091e-09,\n",
       "       1.7055652e-11, 1.9080884e-11], dtype=float32)"
      ]
     },
     "execution_count": 29,
     "metadata": {},
     "output_type": "execute_result"
    }
   ],
   "source": [
    "predictions[15]"
   ]
  },
  {
   "cell_type": "code",
   "execution_count": 30,
   "metadata": {},
   "outputs": [
    {
     "data": {
      "text/plain": [
       "11"
      ]
     },
     "execution_count": 30,
     "metadata": {},
     "output_type": "execute_result"
    }
   ],
   "source": [
    "np.argmax(predictions[15])"
   ]
  },
  {
   "cell_type": "code",
   "execution_count": null,
   "metadata": {},
   "outputs": [],
   "source": []
  },
  {
   "cell_type": "code",
   "execution_count": null,
   "metadata": {},
   "outputs": [],
   "source": []
  }
 ],
 "metadata": {
  "kernelspec": {
   "display_name": "Python 3",
   "language": "python",
   "name": "python3"
  },
  "language_info": {
   "codemirror_mode": {
    "name": "ipython",
    "version": 3
   },
   "file_extension": ".py",
   "mimetype": "text/x-python",
   "name": "python",
   "nbconvert_exporter": "python",
   "pygments_lexer": "ipython3",
   "version": "3.7.3"
  }
 },
 "nbformat": 4,
 "nbformat_minor": 2
}
